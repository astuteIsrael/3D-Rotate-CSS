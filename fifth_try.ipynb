{
  "nbformat": 4,
  "nbformat_minor": 0,
  "metadata": {
    "colab": {
      "provenance": [],
      "authorship_tag": "ABX9TyO95oS0rjjczRBJmLmfwIgd",
      "include_colab_link": true
    },
    "kernelspec": {
      "name": "python3",
      "display_name": "Python 3"
    },
    "language_info": {
      "name": "python"
    }
  },
  "cells": [
    {
      "cell_type": "markdown",
      "metadata": {
        "id": "view-in-github",
        "colab_type": "text"
      },
      "source": [
        "<a href=\"https://colab.research.google.com/github/astuteIsrael/3D-Rotate-CSS/blob/main/fifth_try.ipynb\" target=\"_parent\"><img src=\"https://colab.research.google.com/assets/colab-badge.svg\" alt=\"Open In Colab\"/></a>"
      ]
    },
    {
      "cell_type": "code",
      "source": [
        "# Import necessary libraries\n",
        "import pandas as pd\n",
        "import numpy as np\n",
        "from sklearn.model_selection import train_test_split\n",
        "from sklearn.preprocessing import StandardScaler\n",
        "from sklearn.ensemble import RandomForestClassifier, VotingClassifier\n",
        "from xgboost import XGBClassifier\n",
        "from sklearn.linear_model import LogisticRegression\n",
        "from lightgbm import LGBMClassifier\n",
        "from sklearn.metrics import accuracy_score, roc_auc_score, classification_report\n",
        "from imblearn.over_sampling import SMOTE"
      ],
      "metadata": {
        "colab": {
          "base_uri": "https://localhost:8080/"
        },
        "id": "mbTT9_SWw5KS",
        "outputId": "545d191d-c822-4446-fbeb-589ccaa71141"
      },
      "execution_count": 71,
      "outputs": [
        {
          "output_type": "stream",
          "name": "stderr",
          "text": [
            "/usr/local/lib/python3.10/dist-packages/dask/dataframe/__init__.py:42: FutureWarning: \n",
            "Dask dataframe query planning is disabled because dask-expr is not installed.\n",
            "\n",
            "You can install it with `pip install dask[dataframe]` or `conda install dask`.\n",
            "This will raise in a future version.\n",
            "\n",
            "  warnings.warn(msg, FutureWarning)\n"
          ]
        }
      ]
    },
    {
      "cell_type": "code",
      "source": [
        "# Load the datasets\n",
        "variable_definitions = pd.read_csv('/content/Variable_Definitions.csv')\n",
        "train_data = pd.read_csv('/content/Train Dataset .csv')\n",
        "test_data = pd.read_csv('/content/Test Dataset.csv')\n",
        "sample_submission = pd.read_csv('/content/Sample Submission.csv')\n",
        "\n",
        "# Display first few rows to inspect the data\n",
        "print(train_data.head())\n",
        "print(test_data.head())\n"
      ],
      "metadata": {
        "colab": {
          "base_uri": "https://localhost:8080/"
        },
        "id": "4FLt30vkxvIr",
        "outputId": "5f646c08-a60b-47dc-93f4-df71ccb403d4"
      },
      "execution_count": 73,
      "outputs": [
        {
          "output_type": "stream",
          "name": "stdout",
          "text": [
            "      Id  Age  Sex  cp  trestbps  chol  fbs  restecg  thalach  exang  oldpeak  \\\n",
            "0  16167   33    0   1       158   205    1        0      154      0      1.5   \n",
            "1  11275   53    1   2       198   154    0        1      104      0      0.8   \n",
            "2  13251   37    1   2       101   202    1        0      155      0      2.1   \n",
            "3  19921   75    0   0       113   306    1        2       88      1      4.9   \n",
            "4  11293   35    1   2       139   419    1        1      166      1      0.9   \n",
            "\n",
            "   slope  ca  thal  target  \n",
            "0      1   4     1       1  \n",
            "1      2   1     0       0  \n",
            "2      1   3     1       1  \n",
            "3      0   2     2       1  \n",
            "4      2   4     0       1  \n",
            "      id  age  sex  cp  trestbps  chol  fbs  restecg  thalach  exang  oldpeak  \\\n",
            "0  16501   70    1   0       163   495    0        2      170      1      2.0   \n",
            "1  10444   61    1   0       131   238    0        2       74      1      4.9   \n",
            "2  14288   53    1   0        95   558    1        1       73      1      0.7   \n",
            "3  10409   37    0   1       178   287    0        1      192      1      5.7   \n",
            "4  17330   35    0   3       104   281    0        0      122      0      1.3   \n",
            "\n",
            "   slope  ca  thal  \n",
            "0      1   0     1  \n",
            "1      2   2     2  \n",
            "2      1   1     0  \n",
            "3      1   0     0  \n",
            "4      1   4     3  \n"
          ]
        }
      ]
    },
    {
      "cell_type": "code",
      "source": [
        "# Check for missing values and handle them\n",
        "print(train_data.isnull().sum())\n",
        "\n",
        "# Fill missing values (example with median, can be customized)\n",
        "train_data.fillna(train_data.median(), inplace=True)\n",
        "\n",
        "# Split features (X) and target (y)\n",
        "X = train_data.drop(columns=['target'])\n",
        "y = train_data['target']\n",
        "\n",
        "# Scale the features (Standardization)\n",
        "scaler = StandardScaler()\n",
        "X_scaled = scaler.fit_transform(X)"
      ],
      "metadata": {
        "colab": {
          "base_uri": "https://localhost:8080/"
        },
        "id": "ywz9V9Fa0Cby",
        "outputId": "564b5b17-9155-48ec-c039-53e5789c2419"
      },
      "execution_count": 80,
      "outputs": [
        {
          "output_type": "stream",
          "name": "stdout",
          "text": [
            "Id          0\n",
            "Age         0\n",
            "Sex         0\n",
            "cp          0\n",
            "trestbps    0\n",
            "chol        0\n",
            "fbs         0\n",
            "restecg     0\n",
            "thalach     0\n",
            "exang       0\n",
            "oldpeak     0\n",
            "slope       0\n",
            "ca          0\n",
            "thal        0\n",
            "target      0\n",
            "dtype: int64\n"
          ]
        }
      ]
    },
    {
      "cell_type": "code",
      "source": [
        "# Split data into training and validation sets (80% train, 20% validation)\n",
        "X_train, X_val, y_train, y_val = train_test_split(X_scaled, y, test_size=0.2, random_state=42)"
      ],
      "metadata": {
        "id": "E8RngjDK0EQ5"
      },
      "execution_count": 81,
      "outputs": []
    },
    {
      "cell_type": "code",
      "source": [
        "# Initialize XGBoost classifier\n",
        "xgb_model = XGBClassifier(random_state=42)\n",
        "\n",
        "# Set up Stratified K-Fold Cross-Validation\n",
        "kfold = StratifiedKFold(n_splits=5, shuffle=True, random_state=42)\n",
        "\n",
        "# Perform cross-validation on XGBoost model\n",
        "xgb_cv_results = cross_val_score(xgb_model, X_scaled, y, cv=kfold, scoring='accuracy', verbose=2)\n",
        "print(f\"XGBoost Cross-Validation Accuracy: {xgb_cv_results.mean()} (+/- {xgb_cv_results.std()})\")"
      ],
      "metadata": {
        "colab": {
          "base_uri": "https://localhost:8080/"
        },
        "id": "9sQitqAa0Gkd",
        "outputId": "16ffb637-cf24-4a3f-f017-7140b29e7b80"
      },
      "execution_count": 82,
      "outputs": [
        {
          "output_type": "stream",
          "name": "stdout",
          "text": [
            "[CV] END .................................................... total time=   0.6s\n",
            "[CV] END .................................................... total time=   0.3s\n",
            "[CV] END .................................................... total time=   0.2s\n",
            "[CV] END .................................................... total time=   0.2s\n",
            "[CV] END .................................................... total time=   0.2s\n",
            "XGBoost Cross-Validation Accuracy: 0.811721845611469 (+/- 0.007004245831598185)\n"
          ]
        }
      ]
    },
    {
      "cell_type": "code",
      "source": [
        "# Initialize Random Forest classifier\n",
        "rf_model = RandomForestClassifier(n_estimators=100, random_state=42)\n",
        "\n",
        "# Create an ensemble model using VotingClassifier\n",
        "ensemble_model = VotingClassifier(estimators=[('xgb', xgb_model), ('rf', rf_model)], voting='soft')\n",
        "\n",
        "# Perform cross-validation on Ensemble model\n",
        "ensemble_cv_results = cross_val_score(ensemble_model, X_scaled, y, cv=kfold, scoring='accuracy', verbose=2)\n",
        "print(f\"Ensemble Model Cross-Validation Accuracy: {ensemble_cv_results.mean()} (+/- {ensemble_cv_results.std()})\")"
      ],
      "metadata": {
        "colab": {
          "base_uri": "https://localhost:8080/"
        },
        "id": "f6hvgKC20IOn",
        "outputId": "03513d42-ec27-436f-fb66-5eaefdb3cecc"
      },
      "execution_count": 83,
      "outputs": [
        {
          "output_type": "stream",
          "name": "stdout",
          "text": [
            "[CV] END .................................................... total time=   1.8s\n",
            "[CV] END .................................................... total time=   0.9s\n",
            "[CV] END .................................................... total time=   0.9s\n",
            "[CV] END .................................................... total time=   0.9s\n",
            "[CV] END .................................................... total time=   0.9s\n",
            "Ensemble Model Cross-Validation Accuracy: 0.8104895314712197 (+/- 0.006030021430305819)\n"
          ]
        }
      ]
    },
    {
      "cell_type": "code",
      "source": [
        "# Train the ensemble model on the full training set\n",
        "ensemble_model.fit(X_train, y_train)\n",
        "\n",
        "# Predict on the validation set\n",
        "y_val_pred = ensemble_model.predict(X_val)\n",
        "\n",
        "# Evaluate the ensemble model on validation data\n",
        "accuracy = accuracy_score(y_val, y_val_pred)\n",
        "roc_auc = roc_auc_score(y_val, y_val_pred)\n",
        "\n",
        "print(f\"Validation Accuracy (Ensemble Model): {accuracy}\")\n",
        "print(f\"Validation AUC-ROC (Ensemble Model): {roc_auc}\")\n",
        "print(\"Classification Report (Ensemble Model):\")\n",
        "print(classification_report(y_val, y_val_pred))"
      ],
      "metadata": {
        "colab": {
          "base_uri": "https://localhost:8080/"
        },
        "id": "Zh93BuFd0Kgg",
        "outputId": "6adf8bd3-915f-443f-f27e-7c564636ac35"
      },
      "execution_count": 84,
      "outputs": [
        {
          "output_type": "stream",
          "name": "stdout",
          "text": [
            "Validation Accuracy (Ensemble Model): 0.8288843258042436\n",
            "Validation AUC-ROC (Ensemble Model): 0.7045619035419202\n",
            "Classification Report (Ensemble Model):\n",
            "              precision    recall  f1-score   support\n",
            "\n",
            "           0       0.52      0.51      0.52       260\n",
            "           1       0.89      0.90      0.90      1201\n",
            "\n",
            "    accuracy                           0.83      1461\n",
            "   macro avg       0.71      0.70      0.71      1461\n",
            "weighted avg       0.83      0.83      0.83      1461\n",
            "\n"
          ]
        }
      ]
    },
    {
      "cell_type": "code",
      "source": [
        "# Scale the test data using the same scaler\n",
        "test_data_scaled = scaler.transform(test_data)\n",
        "\n",
        "# Predict on the test dataset using the ensemble model\n",
        "test_predictions = ensemble_model.predict(test_data_scaled)\n",
        "\n",
        "# Prepare the submission file\n",
        "sample_submission['target'] = test_predictions\n",
        "sample_submission.to_csv('Ensemble_Heart_Disease_Predictions.csv', index=False)\n",
        "\n",
        "print(\"Submission file 'Ensemble_Heart_Disease_Predictions.csv' generated successfully.\")"
      ],
      "metadata": {
        "colab": {
          "base_uri": "https://localhost:8080/"
        },
        "id": "1VG8s83W0OHo",
        "outputId": "70c66c3c-4002-4a62-888f-8dfd6851b11c"
      },
      "execution_count": 85,
      "outputs": [
        {
          "output_type": "stream",
          "name": "stdout",
          "text": [
            "Submission file 'Ensemble_Heart_Disease_Predictions.csv' generated successfully.\n"
          ]
        }
      ]
    }
  ]
}